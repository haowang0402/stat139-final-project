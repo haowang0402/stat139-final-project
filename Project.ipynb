{
 "cells": [
  {
   "cell_type": "code",
   "execution_count": 38,
   "id": "015f8e93",
   "metadata": {},
   "outputs": [],
   "source": [
    "import pandas as pd\n",
    "from datetime import datetime\n",
    "from sklearn.model_selection import train_test_split\n",
    "import numpy as np\n",
    "import matplotlib.pyplot as plt"
   ]
  },
  {
   "cell_type": "code",
   "execution_count": 51,
   "id": "886e51c0",
   "metadata": {},
   "outputs": [
    {
     "data": {
      "text/plain": [
       "Index(['id', 'timestamp', 'hour', 'day', 'month', 'timezone', 'source',\n",
       "       'destination', 'cab_type', 'product_id', 'name', 'price', 'distance',\n",
       "       'surge_multiplier', 'latitude', 'longitude', 'temperature',\n",
       "       'apparentTemperature', 'short_summary', 'long_summary',\n",
       "       'precipIntensity', 'precipProbability', 'humidity', 'windSpeed',\n",
       "       'windGust', 'windGustTime', 'visibility', 'temperatureHigh',\n",
       "       'temperatureHighTime', 'temperatureLow', 'temperatureLowTime',\n",
       "       'apparentTemperatureHigh', 'apparentTemperatureHighTime',\n",
       "       'apparentTemperatureLow', 'apparentTemperatureLowTime', 'icon',\n",
       "       'dewPoint', 'pressure', 'windBearing', 'cloudCover', 'uvIndex',\n",
       "       'visibility.1', 'ozone', 'sunriseTime', 'sunsetTime', 'moonPhase',\n",
       "       'precipIntensityMax', 'uvIndexTime', 'temperatureMin',\n",
       "       'temperatureMinTime', 'temperatureMax', 'temperatureMaxTime',\n",
       "       'apparentTemperatureMin', 'apparentTemperatureMinTime',\n",
       "       'apparentTemperatureMax', 'apparentTemperatureMaxTime', 'datetime',\n",
       "       'number_of_orders_within_15_mins', 'busy'],\n",
       "      dtype='object')"
      ]
     },
     "execution_count": 51,
     "metadata": {},
     "output_type": "execute_result"
    }
   ],
   "source": [
    "df.columns"
   ]
  },
  {
   "cell_type": "code",
   "execution_count": null,
   "id": "9cf407e4",
   "metadata": {},
   "outputs": [],
   "source": [
    "interval = 900"
   ]
  },
  {
   "cell_type": "code",
   "execution_count": 2,
   "id": "8ad8fe49",
   "metadata": {},
   "outputs": [],
   "source": [
    "df = pd.read_csv(\"./rideshare_kaggle.csv\")\n",
    "df = df.sort_values(\"timestamp\")\n",
    "df[\"datetime\"] = pd.to_datetime(df.timestamp, unit=\"s\")"
   ]
  },
  {
   "cell_type": "code",
   "execution_count": 8,
   "id": "8d46464c",
   "metadata": {},
   "outputs": [],
   "source": [
    "freq_df =  df.set_index(\"datetime\").cab_type.resample(f\"{interval}s\").count().to_frame()\n",
    "freq_df = freq_df.rename(columns={\"cab_type\": \"freq\"})\n",
    "freq_df = freq_df.reset_index()\n",
    "freq_df[\"timestamp\"] = freq_df[\"datetime\"].apply(lambda x: x.timestamp()) + interval"
   ]
  },
  {
   "cell_type": "code",
   "execution_count": 9,
   "id": "7cb2001d",
   "metadata": {},
   "outputs": [],
   "source": [
    "tmp = pd.concat([df.set_index(\"datetime\"), freq_df])\n",
    "tmp = tmp.sort_values(\"timestamp\")\n",
    "tmp.freq = tmp.freq.backfill()"
   ]
  },
  {
   "cell_type": "code",
   "execution_count": 16,
   "id": "5684229e",
   "metadata": {},
   "outputs": [],
   "source": [
    "df = tmp[~tmp.destination.isna()]\n",
    "df.freq = df.freq.astype(int)"
   ]
  },
  {
   "cell_type": "code",
   "execution_count": 18,
   "id": "636afeaa",
   "metadata": {},
   "outputs": [],
   "source": [
    "df = df.rename(columns={\"freq\": f\"number_of_orders_within_{int(interval/60)}_mins\"})\n",
    "freq_df = freq_df.rename(columns={\"freq\": f\"number_of_orders_within_{int(interval/60)}_mins\"})"
   ]
  },
  {
   "cell_type": "code",
   "execution_count": 22,
   "id": "03cd9df5",
   "metadata": {},
   "outputs": [],
   "source": [
    "sampled_df = df.sample(50000)\n",
    "sampled_df.to_csv(\"sampled_rideshare.csv\")"
   ]
  },
  {
   "cell_type": "code",
   "execution_count": 19,
   "id": "450bbe3c",
   "metadata": {},
   "outputs": [],
   "source": [
    "freq_df.to_csv(\"rides_slide_window.csv\")"
   ]
  },
  {
   "cell_type": "code",
   "execution_count": 27,
   "id": "2cc2e516",
   "metadata": {},
   "outputs": [],
   "source": [
    "df[\"busy\"] = np.where(df.number_of_orders_within_15_mins < 500, \"not busy\", \n",
    "                      np.where(df.number_of_orders_within_15_mins < 1000, \"normal\", \"busy\"))"
   ]
  },
  {
   "cell_type": "code",
   "execution_count": 30,
   "id": "81bc747a",
   "metadata": {},
   "outputs": [
    {
     "data": {
      "text/plain": [
       "busy\n",
       "busy        16.537197\n",
       "normal      16.574187\n",
       "not busy    16.540966\n",
       "Name: price, dtype: float64"
      ]
     },
     "execution_count": 30,
     "metadata": {},
     "output_type": "execute_result"
    }
   ],
   "source": [
    "df[[\"price\", \"busy\"]].groupby(\"busy\").price.mean()"
   ]
  },
  {
   "cell_type": "code",
   "execution_count": 50,
   "id": "29cdc3d8",
   "metadata": {},
   "outputs": [
    {
     "data": {
      "image/png": "[encoded data removed]",
      "text/plain": [
       "<Figure size 432x288 with 1 Axes>"
      ]
     },
     "metadata": {
      "needs_background": "light"
     },
     "output_type": "display_data"
    }
   ],
   "source": [
    "plt.title(\"hour percentage\")\n",
    "plt.hist(df.hour, density=True)\n",
    "plt.hist(sampled_df.hour, density=True)\n",
    "plt.savefig(\"hour_percentage.jpg\")"
   ]
  },
  {
   "cell_type": "code",
   "execution_count": 54,
   "id": "fe6cf5b6",
   "metadata": {},
   "outputs": [
    {
     "data": {
      "image/png": "[encoded data removed]",
      "text/plain": [
       "<Figure size 432x288 with 1 Axes>"
      ]
     },
     "metadata": {
      "needs_background": "light"
     },
     "output_type": "display_data"
    }
   ],
   "source": [
    "plt.title(\"distance percentage\")\n",
    "plt.hist(df.distance, density=True)\n",
    "plt.hist(sampled_df.distance, density=True)\n",
    "plt.savefig(\"distance_percentage.jpg\")"
   ]
  },
  {
   "cell_type": "code",
   "execution_count": 55,
   "id": "4560448c",
   "metadata": {},
   "outputs": [
    {
     "data": {
      "image/png": "[encoded data removed]",
      "text/plain": [
       "<Figure size 432x288 with 1 Axes>"
      ]
     },
     "metadata": {
      "needs_background": "light"
     },
     "output_type": "display_data"
    }
   ],
   "source": [
    "plt.title(\"source percentage\")\n",
    "plt.hist(df.source, density=True)\n",
    "plt.hist(sampled_df.source, density=True)\n",
    "plt.savefig(\"source_percentage.jpg\")"
   ]
  },
  {
   "cell_type": "code",
   "execution_count": 56,
   "id": "b3b85619",
   "metadata": {},
   "outputs": [
    {
     "data": {
      "image/png": "[encoded data removed]",
      "text/plain": [
       "<Figure size 432x288 with 1 Axes>"
      ]
     },
     "metadata": {
      "needs_background": "light"
     },
     "output_type": "display_data"
    }
   ],
   "source": [
    "plt.title(\"dest percentage\")\n",
    "plt.hist(df.destination, density=True)\n",
    "plt.hist(sampled_df.destination, density=True)\n",
    "plt.savefig(\"dest_percentage.jpg\")"
   ]
  },
  {
   "cell_type": "code",
   "execution_count": 49,
   "id": "fff09ae4",
   "metadata": {},
   "outputs": [
    {
     "data": {
      "image/png": "[encoded data removed]",
      "text/plain": [
       "<Figure size 432x288 with 1 Axes>"
      ]
     },
     "metadata": {
      "needs_background": "light"
     },
     "output_type": "display_data"
    }
   ],
   "source": [
    "plt.title(\"price percentage\")\n",
    "plt.hist(df.price, density=True)\n",
    "plt.hist(sampled_df.price, density=True)\n",
    "plt.savefig(\"price_percentage.jpg\")"
   ]
  },
  {
   "cell_type": "code",
   "execution_count": 53,
   "id": "c1ea893b",
   "metadata": {},
   "outputs": [
    {
     "data": {
      "image/png": "[encoded data removed]",
      "text/plain": [
       "<Figure size 432x288 with 1 Axes>"
      ]
     },
     "metadata": {
      "needs_background": "light"
     },
     "output_type": "display_data"
    }
   ],
   "source": [
    "plt.title(\"cab type percentage\")\n",
    "plt.hist(df.cab_type, density=True)\n",
    "plt.hist(sampled_df.cab_type, density=True)\n",
    "plt.savefig(\"cab_type_percentage.jpg\")"
   ]
  },
  {
   "cell_type": "code",
   "execution_count": 35,
   "id": "e8580f35",
   "metadata": {},
   "outputs": [
    {
     "data": {
      "text/plain": [
       "<AxesSubplot:>"
      ]
     },
     "execution_count": 35,
     "metadata": {},
     "output_type": "execute_result"
    },
    {
     "data": {
      "image/png": "[encoded data removed]",
      "text/plain": [
       "<Figure size 432x288 with 1 Axes>"
      ]
     },
     "metadata": {
      "needs_background": "light"
     },
     "output_type": "display_data"
    }
   ],
   "source": []
  }
 ],
 "metadata": {
  "kernelspec": {
   "display_name": "Python 3 (ipykernel)",
   "language": "python",
   "name": "python3"
  },
  "language_info": {
   "codemirror_mode": {
    "name": "ipython",
    "version": 3
   },
   "file_extension": ".py",
   "mimetype": "text/x-python",
   "name": "python",
   "nbconvert_exporter": "python",
   "pygments_lexer": "ipython3",
   "version": "3.9.12"
  }
 },
 "nbformat": 4,
 "nbformat_minor": 5
}
